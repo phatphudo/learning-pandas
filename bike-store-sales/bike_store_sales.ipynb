{
 "cells": [
  {
   "cell_type": "markdown",
   "metadata": {},
   "source": [
    "### Learning Pandas\n",
    "\n",
    "# Bike Store Sales\n",
    "\n",
    "Analyze sales made in a Bike Shop."
   ]
  },
  {
   "cell_type": "markdown",
   "metadata": {},
   "source": [
    "---\n",
    "## Intro"
   ]
  },
  {
   "cell_type": "markdown",
   "metadata": {},
   "source": [
    "### Importing libraries & Reading data"
   ]
  },
  {
   "cell_type": "code",
   "execution_count": 1,
   "metadata": {},
   "outputs": [],
   "source": [
    "import numpy as np\n",
    "import pandas as pd\n",
    "import matplotlib.pyplot as plt\n",
    "\n",
    "%matplotlib inline"
   ]
  },
  {
   "cell_type": "code",
   "execution_count": 2,
   "metadata": {},
   "outputs": [],
   "source": [
    "sales_df = pd.read_csv('data/sales_data.csv')"
   ]
  },
  {
   "cell_type": "markdown",
   "metadata": {},
   "source": [
    "### First look at the data"
   ]
  },
  {
   "cell_type": "code",
   "execution_count": 3,
   "metadata": {},
   "outputs": [
    {
     "data": {
      "text/plain": [
       "(5000, 16)"
      ]
     },
     "execution_count": 3,
     "metadata": {},
     "output_type": "execute_result"
    }
   ],
   "source": [
    "sales_df.shape"
   ]
  },
  {
   "cell_type": "code",
   "execution_count": 4,
   "metadata": {
    "scrolled": false
   },
   "outputs": [
    {
     "data": {
      "text/html": [
       "<div>\n",
       "<style scoped>\n",
       "    .dataframe tbody tr th:only-of-type {\n",
       "        vertical-align: middle;\n",
       "    }\n",
       "\n",
       "    .dataframe tbody tr th {\n",
       "        vertical-align: top;\n",
       "    }\n",
       "\n",
       "    .dataframe thead th {\n",
       "        text-align: right;\n",
       "    }\n",
       "</style>\n",
       "<table border=\"1\" class=\"dataframe\">\n",
       "  <thead>\n",
       "    <tr style=\"text-align: right;\">\n",
       "      <th></th>\n",
       "      <th>Date</th>\n",
       "      <th>Day</th>\n",
       "      <th>Month</th>\n",
       "      <th>Year</th>\n",
       "      <th>Customer_Age</th>\n",
       "      <th>Customer_Gender</th>\n",
       "      <th>Country</th>\n",
       "      <th>State</th>\n",
       "      <th>Product_Category</th>\n",
       "      <th>Sub_Category</th>\n",
       "      <th>Product</th>\n",
       "      <th>Order_Quantity</th>\n",
       "      <th>Unit_Cost</th>\n",
       "      <th>Unit_Price</th>\n",
       "      <th>Profit</th>\n",
       "      <th>Revenue</th>\n",
       "    </tr>\n",
       "  </thead>\n",
       "  <tbody>\n",
       "    <tr>\n",
       "      <th>0</th>\n",
       "      <td>2014-03-05</td>\n",
       "      <td>5</td>\n",
       "      <td>March</td>\n",
       "      <td>2014</td>\n",
       "      <td>34</td>\n",
       "      <td>M</td>\n",
       "      <td>United States</td>\n",
       "      <td>California</td>\n",
       "      <td>Accessories</td>\n",
       "      <td>Fenders</td>\n",
       "      <td>Fender Set - Mountain</td>\n",
       "      <td>27</td>\n",
       "      <td>8</td>\n",
       "      <td>22</td>\n",
       "      <td>366</td>\n",
       "      <td>582</td>\n",
       "    </tr>\n",
       "    <tr>\n",
       "      <th>1</th>\n",
       "      <td>2013-08-18</td>\n",
       "      <td>18</td>\n",
       "      <td>August</td>\n",
       "      <td>2013</td>\n",
       "      <td>31</td>\n",
       "      <td>F</td>\n",
       "      <td>Canada</td>\n",
       "      <td>British Columbia</td>\n",
       "      <td>Clothing</td>\n",
       "      <td>Vests</td>\n",
       "      <td>Classic Vest, L</td>\n",
       "      <td>13</td>\n",
       "      <td>24</td>\n",
       "      <td>64</td>\n",
       "      <td>512</td>\n",
       "      <td>824</td>\n",
       "    </tr>\n",
       "    <tr>\n",
       "      <th>2</th>\n",
       "      <td>2014-02-04</td>\n",
       "      <td>4</td>\n",
       "      <td>February</td>\n",
       "      <td>2014</td>\n",
       "      <td>31</td>\n",
       "      <td>F</td>\n",
       "      <td>United States</td>\n",
       "      <td>Washington</td>\n",
       "      <td>Bikes</td>\n",
       "      <td>Touring Bikes</td>\n",
       "      <td>Touring-1000 Yellow, 54</td>\n",
       "      <td>1</td>\n",
       "      <td>1482</td>\n",
       "      <td>2384</td>\n",
       "      <td>378</td>\n",
       "      <td>1860</td>\n",
       "    </tr>\n",
       "    <tr>\n",
       "      <th>3</th>\n",
       "      <td>2013-09-09</td>\n",
       "      <td>9</td>\n",
       "      <td>September</td>\n",
       "      <td>2013</td>\n",
       "      <td>33</td>\n",
       "      <td>M</td>\n",
       "      <td>Australia</td>\n",
       "      <td>Victoria</td>\n",
       "      <td>Accessories</td>\n",
       "      <td>Tires and Tubes</td>\n",
       "      <td>LL Road Tire</td>\n",
       "      <td>25</td>\n",
       "      <td>8</td>\n",
       "      <td>21</td>\n",
       "      <td>215</td>\n",
       "      <td>415</td>\n",
       "    </tr>\n",
       "    <tr>\n",
       "      <th>4</th>\n",
       "      <td>2016-05-16</td>\n",
       "      <td>16</td>\n",
       "      <td>May</td>\n",
       "      <td>2016</td>\n",
       "      <td>35</td>\n",
       "      <td>F</td>\n",
       "      <td>United States</td>\n",
       "      <td>Washington</td>\n",
       "      <td>Accessories</td>\n",
       "      <td>Tires and Tubes</td>\n",
       "      <td>Mountain Tire Tube</td>\n",
       "      <td>28</td>\n",
       "      <td>2</td>\n",
       "      <td>5</td>\n",
       "      <td>53</td>\n",
       "      <td>109</td>\n",
       "    </tr>\n",
       "  </tbody>\n",
       "</table>\n",
       "</div>"
      ],
      "text/plain": [
       "         Date  Day      Month  Year  Customer_Age Customer_Gender  \\\n",
       "0  2014-03-05    5      March  2014            34               M   \n",
       "1  2013-08-18   18     August  2013            31               F   \n",
       "2  2014-02-04    4   February  2014            31               F   \n",
       "3  2013-09-09    9  September  2013            33               M   \n",
       "4  2016-05-16   16        May  2016            35               F   \n",
       "\n",
       "         Country             State Product_Category     Sub_Category  \\\n",
       "0  United States        California      Accessories          Fenders   \n",
       "1         Canada  British Columbia         Clothing            Vests   \n",
       "2  United States        Washington            Bikes    Touring Bikes   \n",
       "3      Australia          Victoria      Accessories  Tires and Tubes   \n",
       "4  United States        Washington      Accessories  Tires and Tubes   \n",
       "\n",
       "                   Product  Order_Quantity  Unit_Cost  Unit_Price  Profit  \\\n",
       "0    Fender Set - Mountain              27          8          22     366   \n",
       "1          Classic Vest, L              13         24          64     512   \n",
       "2  Touring-1000 Yellow, 54               1       1482        2384     378   \n",
       "3             LL Road Tire              25          8          21     215   \n",
       "4       Mountain Tire Tube              28          2           5      53   \n",
       "\n",
       "   Revenue  \n",
       "0      582  \n",
       "1      824  \n",
       "2     1860  \n",
       "3      415  \n",
       "4      109  "
      ]
     },
     "execution_count": 4,
     "metadata": {},
     "output_type": "execute_result"
    }
   ],
   "source": [
    "sales_df.head()"
   ]
  },
  {
   "cell_type": "code",
   "execution_count": 5,
   "metadata": {
    "scrolled": false
   },
   "outputs": [
    {
     "data": {
      "text/html": [
       "<div>\n",
       "<style scoped>\n",
       "    .dataframe tbody tr th:only-of-type {\n",
       "        vertical-align: middle;\n",
       "    }\n",
       "\n",
       "    .dataframe tbody tr th {\n",
       "        vertical-align: top;\n",
       "    }\n",
       "\n",
       "    .dataframe thead th {\n",
       "        text-align: right;\n",
       "    }\n",
       "</style>\n",
       "<table border=\"1\" class=\"dataframe\">\n",
       "  <thead>\n",
       "    <tr style=\"text-align: right;\">\n",
       "      <th></th>\n",
       "      <th>Date</th>\n",
       "      <th>Day</th>\n",
       "      <th>Month</th>\n",
       "      <th>Year</th>\n",
       "      <th>Customer_Age</th>\n",
       "      <th>Customer_Gender</th>\n",
       "      <th>Country</th>\n",
       "      <th>State</th>\n",
       "      <th>Product_Category</th>\n",
       "      <th>Sub_Category</th>\n",
       "      <th>Product</th>\n",
       "      <th>Order_Quantity</th>\n",
       "      <th>Unit_Cost</th>\n",
       "      <th>Unit_Price</th>\n",
       "      <th>Profit</th>\n",
       "      <th>Revenue</th>\n",
       "    </tr>\n",
       "  </thead>\n",
       "  <tbody>\n",
       "    <tr>\n",
       "      <th>4995</th>\n",
       "      <td>2014-01-27</td>\n",
       "      <td>27</td>\n",
       "      <td>January</td>\n",
       "      <td>2014</td>\n",
       "      <td>34</td>\n",
       "      <td>M</td>\n",
       "      <td>United States</td>\n",
       "      <td>California</td>\n",
       "      <td>Accessories</td>\n",
       "      <td>Bottles and Cages</td>\n",
       "      <td>Water Bottle - 30 oz.</td>\n",
       "      <td>20</td>\n",
       "      <td>2</td>\n",
       "      <td>5</td>\n",
       "      <td>58</td>\n",
       "      <td>98</td>\n",
       "    </tr>\n",
       "    <tr>\n",
       "      <th>4996</th>\n",
       "      <td>2014-07-14</td>\n",
       "      <td>14</td>\n",
       "      <td>July</td>\n",
       "      <td>2014</td>\n",
       "      <td>17</td>\n",
       "      <td>M</td>\n",
       "      <td>France</td>\n",
       "      <td>Val d'Oise</td>\n",
       "      <td>Clothing</td>\n",
       "      <td>Caps</td>\n",
       "      <td>AWC Logo Cap</td>\n",
       "      <td>12</td>\n",
       "      <td>7</td>\n",
       "      <td>9</td>\n",
       "      <td>1</td>\n",
       "      <td>85</td>\n",
       "    </tr>\n",
       "    <tr>\n",
       "      <th>4997</th>\n",
       "      <td>2013-12-30</td>\n",
       "      <td>30</td>\n",
       "      <td>December</td>\n",
       "      <td>2013</td>\n",
       "      <td>25</td>\n",
       "      <td>F</td>\n",
       "      <td>Canada</td>\n",
       "      <td>British Columbia</td>\n",
       "      <td>Accessories</td>\n",
       "      <td>Helmets</td>\n",
       "      <td>Sport-100 Helmet, Blue</td>\n",
       "      <td>20</td>\n",
       "      <td>13</td>\n",
       "      <td>35</td>\n",
       "      <td>433</td>\n",
       "      <td>693</td>\n",
       "    </tr>\n",
       "    <tr>\n",
       "      <th>4998</th>\n",
       "      <td>2016-01-06</td>\n",
       "      <td>6</td>\n",
       "      <td>January</td>\n",
       "      <td>2016</td>\n",
       "      <td>57</td>\n",
       "      <td>M</td>\n",
       "      <td>Canada</td>\n",
       "      <td>British Columbia</td>\n",
       "      <td>Accessories</td>\n",
       "      <td>Tires and Tubes</td>\n",
       "      <td>Patch Kit/8 Patches</td>\n",
       "      <td>16</td>\n",
       "      <td>1</td>\n",
       "      <td>2</td>\n",
       "      <td>16</td>\n",
       "      <td>32</td>\n",
       "    </tr>\n",
       "    <tr>\n",
       "      <th>4999</th>\n",
       "      <td>2014-03-09</td>\n",
       "      <td>9</td>\n",
       "      <td>March</td>\n",
       "      <td>2014</td>\n",
       "      <td>50</td>\n",
       "      <td>F</td>\n",
       "      <td>Australia</td>\n",
       "      <td>Queensland</td>\n",
       "      <td>Accessories</td>\n",
       "      <td>Tires and Tubes</td>\n",
       "      <td>Patch Kit/8 Patches</td>\n",
       "      <td>15</td>\n",
       "      <td>1</td>\n",
       "      <td>2</td>\n",
       "      <td>10</td>\n",
       "      <td>25</td>\n",
       "    </tr>\n",
       "  </tbody>\n",
       "</table>\n",
       "</div>"
      ],
      "text/plain": [
       "            Date  Day     Month  Year  Customer_Age Customer_Gender  \\\n",
       "4995  2014-01-27   27   January  2014            34               M   \n",
       "4996  2014-07-14   14      July  2014            17               M   \n",
       "4997  2013-12-30   30  December  2013            25               F   \n",
       "4998  2016-01-06    6   January  2016            57               M   \n",
       "4999  2014-03-09    9     March  2014            50               F   \n",
       "\n",
       "            Country             State Product_Category       Sub_Category  \\\n",
       "4995  United States        California      Accessories  Bottles and Cages   \n",
       "4996         France        Val d'Oise         Clothing               Caps   \n",
       "4997         Canada  British Columbia      Accessories            Helmets   \n",
       "4998         Canada  British Columbia      Accessories    Tires and Tubes   \n",
       "4999      Australia        Queensland      Accessories    Tires and Tubes   \n",
       "\n",
       "                     Product  Order_Quantity  Unit_Cost  Unit_Price  Profit  \\\n",
       "4995   Water Bottle - 30 oz.              20          2           5      58   \n",
       "4996            AWC Logo Cap              12          7           9       1   \n",
       "4997  Sport-100 Helmet, Blue              20         13          35     433   \n",
       "4998     Patch Kit/8 Patches              16          1           2      16   \n",
       "4999     Patch Kit/8 Patches              15          1           2      10   \n",
       "\n",
       "      Revenue  \n",
       "4995       98  \n",
       "4996       85  \n",
       "4997      693  \n",
       "4998       32  \n",
       "4999       25  "
      ]
     },
     "execution_count": 5,
     "metadata": {},
     "output_type": "execute_result"
    }
   ],
   "source": [
    "sales_df.tail()"
   ]
  },
  {
   "cell_type": "code",
   "execution_count": 6,
   "metadata": {},
   "outputs": [
    {
     "name": "stdout",
     "output_type": "stream",
     "text": [
      "<class 'pandas.core.frame.DataFrame'>\n",
      "RangeIndex: 5000 entries, 0 to 4999\n",
      "Data columns (total 16 columns):\n",
      " #   Column            Non-Null Count  Dtype \n",
      "---  ------            --------------  ----- \n",
      " 0   Date              5000 non-null   object\n",
      " 1   Day               5000 non-null   int64 \n",
      " 2   Month             5000 non-null   object\n",
      " 3   Year              5000 non-null   int64 \n",
      " 4   Customer_Age      5000 non-null   int64 \n",
      " 5   Customer_Gender   5000 non-null   object\n",
      " 6   Country           5000 non-null   object\n",
      " 7   State             5000 non-null   object\n",
      " 8   Product_Category  5000 non-null   object\n",
      " 9   Sub_Category      5000 non-null   object\n",
      " 10  Product           5000 non-null   object\n",
      " 11  Order_Quantity    5000 non-null   int64 \n",
      " 12  Unit_Cost         5000 non-null   int64 \n",
      " 13  Unit_Price        5000 non-null   int64 \n",
      " 14  Profit            5000 non-null   int64 \n",
      " 15  Revenue           5000 non-null   int64 \n",
      "dtypes: int64(8), object(8)\n",
      "memory usage: 625.1+ KB\n"
     ]
    }
   ],
   "source": [
    "sales_df.info()"
   ]
  },
  {
   "cell_type": "markdown",
   "metadata": {},
   "source": [
    "---\n",
    "## Cleaning data"
   ]
  },
  {
   "cell_type": "markdown",
   "metadata": {},
   "source": [
    "### Fixing data types\n",
    "\n",
    "- Change `Date` to `datetime`.\n",
    "- Change `Customer_Gender`, `Country`, `State`, `Product_Category` and `Sub_Category` to `category`."
   ]
  },
  {
   "cell_type": "code",
   "execution_count": 7,
   "metadata": {
    "cell_type": "solution"
   },
   "outputs": [],
   "source": [
    "sales_df['Date'] = pd.to_datetime(sales_df['Date'])"
   ]
  },
  {
   "cell_type": "code",
   "execution_count": 8,
   "metadata": {},
   "outputs": [
    {
     "data": {
      "text/plain": [
       "Date    datetime64[ns]\n",
       "dtype: object"
      ]
     },
     "execution_count": 8,
     "metadata": {},
     "output_type": "execute_result"
    }
   ],
   "source": [
    "sales_df[['Date']].dtypes"
   ]
  },
  {
   "cell_type": "code",
   "execution_count": 9,
   "metadata": {
    "cell_type": "solution"
   },
   "outputs": [],
   "source": [
    "cols = ['Customer_Gender', 'Country', 'State', 'Product_Category', 'Sub_Category']\n",
    "for col in cols:\n",
    "    sales_df[col] = sales_df[col].astype('category')"
   ]
  },
  {
   "cell_type": "code",
   "execution_count": 10,
   "metadata": {
    "scrolled": true
   },
   "outputs": [
    {
     "data": {
      "text/plain": [
       "Customer_Gender     category\n",
       "Country             category\n",
       "State               category\n",
       "Product_Category    category\n",
       "Sub_Category        category\n",
       "dtype: object"
      ]
     },
     "execution_count": 10,
     "metadata": {},
     "output_type": "execute_result"
    }
   ],
   "source": [
    "sales_df[cols].dtypes"
   ]
  },
  {
   "cell_type": "markdown",
   "metadata": {},
   "source": [
    "### Statistics summary of the data"
   ]
  },
  {
   "cell_type": "code",
   "execution_count": 11,
   "metadata": {
    "cell_type": "solution"
   },
   "outputs": [
    {
     "data": {
      "text/html": [
       "<div>\n",
       "<style scoped>\n",
       "    .dataframe tbody tr th:only-of-type {\n",
       "        vertical-align: middle;\n",
       "    }\n",
       "\n",
       "    .dataframe tbody tr th {\n",
       "        vertical-align: top;\n",
       "    }\n",
       "\n",
       "    .dataframe thead th {\n",
       "        text-align: right;\n",
       "    }\n",
       "</style>\n",
       "<table border=\"1\" class=\"dataframe\">\n",
       "  <thead>\n",
       "    <tr style=\"text-align: right;\">\n",
       "      <th></th>\n",
       "      <th>Day</th>\n",
       "      <th>Year</th>\n",
       "      <th>Customer_Age</th>\n",
       "      <th>Order_Quantity</th>\n",
       "      <th>Unit_Cost</th>\n",
       "      <th>Unit_Price</th>\n",
       "      <th>Profit</th>\n",
       "      <th>Revenue</th>\n",
       "    </tr>\n",
       "  </thead>\n",
       "  <tbody>\n",
       "    <tr>\n",
       "      <th>count</th>\n",
       "      <td>5000.000000</td>\n",
       "      <td>5000.000000</td>\n",
       "      <td>5000.000000</td>\n",
       "      <td>5000.000000</td>\n",
       "      <td>5000.000000</td>\n",
       "      <td>5000.000000</td>\n",
       "      <td>5000.000000</td>\n",
       "      <td>5000.000000</td>\n",
       "    </tr>\n",
       "    <tr>\n",
       "      <th>mean</th>\n",
       "      <td>15.668800</td>\n",
       "      <td>2014.405000</td>\n",
       "      <td>35.933800</td>\n",
       "      <td>11.820400</td>\n",
       "      <td>278.415000</td>\n",
       "      <td>470.680600</td>\n",
       "      <td>291.653400</td>\n",
       "      <td>772.758000</td>\n",
       "    </tr>\n",
       "    <tr>\n",
       "      <th>std</th>\n",
       "      <td>8.797783</td>\n",
       "      <td>1.266055</td>\n",
       "      <td>11.087886</td>\n",
       "      <td>9.607841</td>\n",
       "      <td>562.721951</td>\n",
       "      <td>941.590529</td>\n",
       "      <td>457.359971</td>\n",
       "      <td>1306.052588</td>\n",
       "    </tr>\n",
       "    <tr>\n",
       "      <th>min</th>\n",
       "      <td>1.000000</td>\n",
       "      <td>2011.000000</td>\n",
       "      <td>17.000000</td>\n",
       "      <td>1.000000</td>\n",
       "      <td>1.000000</td>\n",
       "      <td>2.000000</td>\n",
       "      <td>-24.000000</td>\n",
       "      <td>2.000000</td>\n",
       "    </tr>\n",
       "    <tr>\n",
       "      <th>25%</th>\n",
       "      <td>8.000000</td>\n",
       "      <td>2013.000000</td>\n",
       "      <td>28.000000</td>\n",
       "      <td>2.000000</td>\n",
       "      <td>2.000000</td>\n",
       "      <td>5.000000</td>\n",
       "      <td>29.000000</td>\n",
       "      <td>64.000000</td>\n",
       "    </tr>\n",
       "    <tr>\n",
       "      <th>50%</th>\n",
       "      <td>16.000000</td>\n",
       "      <td>2014.000000</td>\n",
       "      <td>35.000000</td>\n",
       "      <td>10.000000</td>\n",
       "      <td>9.000000</td>\n",
       "      <td>25.000000</td>\n",
       "      <td>103.000000</td>\n",
       "      <td>226.000000</td>\n",
       "    </tr>\n",
       "    <tr>\n",
       "      <th>75%</th>\n",
       "      <td>23.000000</td>\n",
       "      <td>2016.000000</td>\n",
       "      <td>43.000000</td>\n",
       "      <td>20.000000</td>\n",
       "      <td>42.000000</td>\n",
       "      <td>70.000000</td>\n",
       "      <td>367.000000</td>\n",
       "      <td>829.250000</td>\n",
       "    </tr>\n",
       "    <tr>\n",
       "      <th>max</th>\n",
       "      <td>31.000000</td>\n",
       "      <td>2016.000000</td>\n",
       "      <td>87.000000</td>\n",
       "      <td>32.000000</td>\n",
       "      <td>2171.000000</td>\n",
       "      <td>3578.000000</td>\n",
       "      <td>5342.000000</td>\n",
       "      <td>14026.000000</td>\n",
       "    </tr>\n",
       "  </tbody>\n",
       "</table>\n",
       "</div>"
      ],
      "text/plain": [
       "               Day         Year  Customer_Age  Order_Quantity    Unit_Cost  \\\n",
       "count  5000.000000  5000.000000   5000.000000     5000.000000  5000.000000   \n",
       "mean     15.668800  2014.405000     35.933800       11.820400   278.415000   \n",
       "std       8.797783     1.266055     11.087886        9.607841   562.721951   \n",
       "min       1.000000  2011.000000     17.000000        1.000000     1.000000   \n",
       "25%       8.000000  2013.000000     28.000000        2.000000     2.000000   \n",
       "50%      16.000000  2014.000000     35.000000       10.000000     9.000000   \n",
       "75%      23.000000  2016.000000     43.000000       20.000000    42.000000   \n",
       "max      31.000000  2016.000000     87.000000       32.000000  2171.000000   \n",
       "\n",
       "        Unit_Price       Profit       Revenue  \n",
       "count  5000.000000  5000.000000   5000.000000  \n",
       "mean    470.680600   291.653400    772.758000  \n",
       "std     941.590529   457.359971   1306.052588  \n",
       "min       2.000000   -24.000000      2.000000  \n",
       "25%       5.000000    29.000000     64.000000  \n",
       "50%      25.000000   103.000000    226.000000  \n",
       "75%      70.000000   367.000000    829.250000  \n",
       "max    3578.000000  5342.000000  14026.000000  "
      ]
     },
     "execution_count": 11,
     "metadata": {},
     "output_type": "execute_result"
    }
   ],
   "source": [
    "sales_df.describe()"
   ]
  },
  {
   "cell_type": "markdown",
   "metadata": {},
   "source": [
    "---\n",
    "## Analyzing data"
   ]
  },
  {
   "cell_type": "markdown",
   "metadata": {},
   "source": [
    "### Customers"
   ]
  },
  {
   "cell_type": "markdown",
   "metadata": {},
   "source": [
    "- Average age of the customers with a **density** and a **box plot**:"
   ]
  },
  {
   "cell_type": "code",
   "execution_count": 12,
   "metadata": {
    "cell_type": "solution"
   },
   "outputs": [
    {
     "data": {
      "text/plain": [
       "35.9338"
      ]
     },
     "execution_count": 12,
     "metadata": {},
     "output_type": "execute_result"
    }
   ],
   "source": [
    "sales_df['Customer_Age'].mean()"
   ]
  },
  {
   "cell_type": "code",
   "execution_count": 13,
   "metadata": {
    "cell_type": "solution"
   },
   "outputs": [
    {
     "data": {
      "image/png": "[encoded data removed]",
      "text/plain": [
       "<Figure size 432x288 with 1 Axes>"
      ]
     },
     "metadata": {
      "needs_background": "light"
     },
     "output_type": "display_data"
    }
   ],
   "source": [
    "sales_df['Customer_Age'].plot(kind='density');"
   ]
  },
  {
   "cell_type": "code",
   "execution_count": 14,
   "metadata": {
    "cell_type": "solution",
    "scrolled": true
   },
   "outputs": [
    {
     "data": {
      "image/png": "[encoded data removed]",
      "text/plain": [
       "<Figure size 432x288 with 1 Axes>"
      ]
     },
     "metadata": {
      "needs_background": "light"
     },
     "output_type": "display_data"
    }
   ],
   "source": [
    "sales_df['Customer_Age'].plot(kind='box');"
   ]
  },
  {
   "cell_type": "markdown",
   "metadata": {},
   "source": [
    "- Sales per `Customer_Gender` with a **bar plot**:"
   ]
  },
  {
   "cell_type": "code",
   "execution_count": 15,
   "metadata": {
    "cell_type": "solution"
   },
   "outputs": [
    {
     "data": {
      "text/plain": [
       "M    2564\n",
       "F    2436\n",
       "Name: Customer_Gender, dtype: int64"
      ]
     },
     "execution_count": 15,
     "metadata": {},
     "output_type": "execute_result"
    }
   ],
   "source": [
    "sales_per_gender = sales_df['Customer_Gender'].value_counts()\n",
    "sales_per_gender"
   ]
  },
  {
   "cell_type": "code",
   "execution_count": 16,
   "metadata": {
    "cell_type": "solution"
   },
   "outputs": [
    {
     "data": {
      "image/png": "[encoded data removed]",
      "text/plain": [
       "<Figure size 432x288 with 1 Axes>"
      ]
     },
     "metadata": {
      "needs_background": "light"
     },
     "output_type": "display_data"
    }
   ],
   "source": [
    "sales_per_gender.plot(kind='bar');"
   ]
  },
  {
   "cell_type": "markdown",
   "metadata": {},
   "source": [
    "### Country"
   ]
  },
  {
   "cell_type": "markdown",
   "metadata": {},
   "source": [
    "- List of `Country`:"
   ]
  },
  {
   "cell_type": "code",
   "execution_count": 17,
   "metadata": {
    "scrolled": true
   },
   "outputs": [
    {
     "data": {
      "text/plain": [
       "['United States', 'Canada', 'Australia', 'United Kingdom', 'Germany', 'France']\n",
       "Categories (6, object): ['United States', 'Canada', 'Australia', 'United Kingdom', 'Germany', 'France']"
      ]
     },
     "execution_count": 17,
     "metadata": {},
     "output_type": "execute_result"
    }
   ],
   "source": [
    "sales_df['Country'].unique()"
   ]
  },
  {
   "cell_type": "markdown",
   "metadata": {},
   "source": [
    "- Sales per `Country` with a **bar plot**:"
   ]
  },
  {
   "cell_type": "code",
   "execution_count": 18,
   "metadata": {
    "cell_type": "solution",
    "scrolled": true
   },
   "outputs": [
    {
     "data": {
      "text/plain": [
       "United States     1700\n",
       "Australia         1066\n",
       "Canada             657\n",
       "United Kingdom     604\n",
       "France             489\n",
       "Germany            484\n",
       "Name: Country, dtype: int64"
      ]
     },
     "execution_count": 18,
     "metadata": {},
     "output_type": "execute_result"
    }
   ],
   "source": [
    "sales_per_country = sales_df['Country'].value_counts()\n",
    "sales_per_country"
   ]
  },
  {
   "cell_type": "code",
   "execution_count": 19,
   "metadata": {
    "cell_type": "solution",
    "scrolled": false
   },
   "outputs": [
    {
     "data": {
      "image/png": "[encoded data removed]",
      "text/plain": [
       "<Figure size 432x288 with 1 Axes>"
      ]
     },
     "metadata": {
      "needs_background": "light"
     },
     "output_type": "display_data"
    }
   ],
   "source": [
    "sales_per_country.plot(kind='barh');"
   ]
  },
  {
   "cell_type": "markdown",
   "metadata": {},
   "source": [
    "- Relationship between the `Customer_Age` per `Country` with a grouped **box plot**:"
   ]
  },
  {
   "cell_type": "code",
   "execution_count": 20,
   "metadata": {
    "cell_type": "solution",
    "scrolled": false
   },
   "outputs": [
    {
     "data": {
      "image/png": "[encoded data removed]",
      "text/plain": [
       "<Figure size 864x432 with 1 Axes>"
      ]
     },
     "metadata": {
      "needs_background": "light"
     },
     "output_type": "display_data"
    }
   ],
   "source": [
    "sales_df[['Customer_Age', 'Country']].boxplot(by='Country', \n",
    "                                              figsize = (12,6));"
   ]
  },
  {
   "cell_type": "markdown",
   "metadata": {},
   "source": [
    "### Sales through time"
   ]
  },
  {
   "cell_type": "markdown",
   "metadata": {},
   "source": [
    "- Sort the data by `Date` and reset index:"
   ]
  },
  {
   "cell_type": "code",
   "execution_count": 21,
   "metadata": {
    "cell_type": "solution"
   },
   "outputs": [
    {
     "data": {
      "text/html": [
       "<div>\n",
       "<style scoped>\n",
       "    .dataframe tbody tr th:only-of-type {\n",
       "        vertical-align: middle;\n",
       "    }\n",
       "\n",
       "    .dataframe tbody tr th {\n",
       "        vertical-align: top;\n",
       "    }\n",
       "\n",
       "    .dataframe thead th {\n",
       "        text-align: right;\n",
       "    }\n",
       "</style>\n",
       "<table border=\"1\" class=\"dataframe\">\n",
       "  <thead>\n",
       "    <tr style=\"text-align: right;\">\n",
       "      <th></th>\n",
       "      <th>Date</th>\n",
       "      <th>Day</th>\n",
       "      <th>Month</th>\n",
       "      <th>Year</th>\n",
       "      <th>Customer_Age</th>\n",
       "      <th>Customer_Gender</th>\n",
       "      <th>Country</th>\n",
       "      <th>State</th>\n",
       "      <th>Product_Category</th>\n",
       "      <th>Sub_Category</th>\n",
       "      <th>Product</th>\n",
       "      <th>Order_Quantity</th>\n",
       "      <th>Unit_Cost</th>\n",
       "      <th>Unit_Price</th>\n",
       "      <th>Profit</th>\n",
       "      <th>Revenue</th>\n",
       "    </tr>\n",
       "  </thead>\n",
       "  <tbody>\n",
       "    <tr>\n",
       "      <th>0</th>\n",
       "      <td>2016-07-31</td>\n",
       "      <td>31</td>\n",
       "      <td>July</td>\n",
       "      <td>2016</td>\n",
       "      <td>47</td>\n",
       "      <td>F</td>\n",
       "      <td>United Kingdom</td>\n",
       "      <td>England</td>\n",
       "      <td>Accessories</td>\n",
       "      <td>Tires and Tubes</td>\n",
       "      <td>Touring Tire</td>\n",
       "      <td>26</td>\n",
       "      <td>11</td>\n",
       "      <td>29</td>\n",
       "      <td>438</td>\n",
       "      <td>724</td>\n",
       "    </tr>\n",
       "    <tr>\n",
       "      <th>1</th>\n",
       "      <td>2016-07-31</td>\n",
       "      <td>31</td>\n",
       "      <td>July</td>\n",
       "      <td>2016</td>\n",
       "      <td>48</td>\n",
       "      <td>F</td>\n",
       "      <td>United Kingdom</td>\n",
       "      <td>England</td>\n",
       "      <td>Clothing</td>\n",
       "      <td>Caps</td>\n",
       "      <td>AWC Logo Cap</td>\n",
       "      <td>16</td>\n",
       "      <td>7</td>\n",
       "      <td>9</td>\n",
       "      <td>26</td>\n",
       "      <td>138</td>\n",
       "    </tr>\n",
       "    <tr>\n",
       "      <th>2</th>\n",
       "      <td>2016-07-31</td>\n",
       "      <td>31</td>\n",
       "      <td>July</td>\n",
       "      <td>2016</td>\n",
       "      <td>40</td>\n",
       "      <td>F</td>\n",
       "      <td>United States</td>\n",
       "      <td>Washington</td>\n",
       "      <td>Accessories</td>\n",
       "      <td>Tires and Tubes</td>\n",
       "      <td>Patch Kit/8 Patches</td>\n",
       "      <td>16</td>\n",
       "      <td>1</td>\n",
       "      <td>2</td>\n",
       "      <td>9</td>\n",
       "      <td>25</td>\n",
       "    </tr>\n",
       "    <tr>\n",
       "      <th>3</th>\n",
       "      <td>2016-07-30</td>\n",
       "      <td>30</td>\n",
       "      <td>July</td>\n",
       "      <td>2016</td>\n",
       "      <td>65</td>\n",
       "      <td>M</td>\n",
       "      <td>Australia</td>\n",
       "      <td>Victoria</td>\n",
       "      <td>Accessories</td>\n",
       "      <td>Helmets</td>\n",
       "      <td>Sport-100 Helmet, Black</td>\n",
       "      <td>14</td>\n",
       "      <td>13</td>\n",
       "      <td>35</td>\n",
       "      <td>205</td>\n",
       "      <td>387</td>\n",
       "    </tr>\n",
       "    <tr>\n",
       "      <th>4</th>\n",
       "      <td>2016-07-30</td>\n",
       "      <td>30</td>\n",
       "      <td>July</td>\n",
       "      <td>2016</td>\n",
       "      <td>41</td>\n",
       "      <td>F</td>\n",
       "      <td>Canada</td>\n",
       "      <td>British Columbia</td>\n",
       "      <td>Accessories</td>\n",
       "      <td>Hydration Packs</td>\n",
       "      <td>Hydration Pack - 70 oz.</td>\n",
       "      <td>5</td>\n",
       "      <td>21</td>\n",
       "      <td>55</td>\n",
       "      <td>167</td>\n",
       "      <td>272</td>\n",
       "    </tr>\n",
       "  </tbody>\n",
       "</table>\n",
       "</div>"
      ],
      "text/plain": [
       "        Date  Day Month  Year  Customer_Age Customer_Gender         Country  \\\n",
       "0 2016-07-31   31  July  2016            47               F  United Kingdom   \n",
       "1 2016-07-31   31  July  2016            48               F  United Kingdom   \n",
       "2 2016-07-31   31  July  2016            40               F   United States   \n",
       "3 2016-07-30   30  July  2016            65               M       Australia   \n",
       "4 2016-07-30   30  July  2016            41               F          Canada   \n",
       "\n",
       "              State Product_Category     Sub_Category  \\\n",
       "0           England      Accessories  Tires and Tubes   \n",
       "1           England         Clothing             Caps   \n",
       "2        Washington      Accessories  Tires and Tubes   \n",
       "3          Victoria      Accessories          Helmets   \n",
       "4  British Columbia      Accessories  Hydration Packs   \n",
       "\n",
       "                   Product  Order_Quantity  Unit_Cost  Unit_Price  Profit  \\\n",
       "0             Touring Tire              26         11          29     438   \n",
       "1             AWC Logo Cap              16          7           9      26   \n",
       "2      Patch Kit/8 Patches              16          1           2       9   \n",
       "3  Sport-100 Helmet, Black              14         13          35     205   \n",
       "4  Hydration Pack - 70 oz.               5         21          55     167   \n",
       "\n",
       "   Revenue  \n",
       "0      724  \n",
       "1      138  \n",
       "2       25  \n",
       "3      387  \n",
       "4      272  "
      ]
     },
     "execution_count": 21,
     "metadata": {},
     "output_type": "execute_result"
    }
   ],
   "source": [
    "sales_df.sort_values(['Date'], ascending=False, inplace=True)\n",
    "sales_df.reset_index(drop=True, inplace=True)\n",
    "sales_df.head()"
   ]
  },
  {
   "cell_type": "markdown",
   "metadata": {},
   "source": [
    "- Sales per `Year` with a **pie plot** and a **bar plot**:"
   ]
  },
  {
   "cell_type": "code",
   "execution_count": 22,
   "metadata": {
    "cell_type": "solution"
   },
   "outputs": [
    {
     "data": {
      "text/plain": [
       "2014    1327\n",
       "2016    1272\n",
       "2015    1123\n",
       "2013    1040\n",
       "2011     126\n",
       "2012     112\n",
       "Name: Year, dtype: int64"
      ]
     },
     "execution_count": 22,
     "metadata": {},
     "output_type": "execute_result"
    }
   ],
   "source": [
    "sales_per_year = sales_df['Year'].value_counts()\n",
    "sales_per_year"
   ]
  },
  {
   "cell_type": "code",
   "execution_count": 23,
   "metadata": {
    "cell_type": "solution"
   },
   "outputs": [
    {
     "data": {
      "image/png": "[encoded data removed]",
      "text/plain": [
       "<Figure size 432x288 with 1 Axes>"
      ]
     },
     "metadata": {},
     "output_type": "display_data"
    }
   ],
   "source": [
    "sales_per_year.plot(kind='pie');"
   ]
  },
  {
   "cell_type": "code",
   "execution_count": 24,
   "metadata": {
    "cell_type": "solution",
    "scrolled": false
   },
   "outputs": [
    {
     "data": {
      "image/png": "[encoded data removed]",
      "text/plain": [
       "<Figure size 432x288 with 1 Axes>"
      ]
     },
     "metadata": {
      "needs_background": "light"
     },
     "output_type": "display_data"
    }
   ],
   "source": [
    "sales_per_year.plot(kind='bar');"
   ]
  },
  {
   "cell_type": "markdown",
   "metadata": {},
   "source": [
    "- Create a new `YearMonth` column: `YearMonth` = `str(Year)` + `Month`, separated by a `-`:"
   ]
  },
  {
   "cell_type": "code",
   "execution_count": 25,
   "metadata": {
    "cell_type": "solution"
   },
   "outputs": [
    {
     "data": {
      "text/plain": [
       "0          2016-July\n",
       "1          2016-July\n",
       "2          2016-July\n",
       "3          2016-July\n",
       "4          2016-July\n",
       "            ...     \n",
       "4995    2011-January\n",
       "4996    2011-January\n",
       "4997    2011-January\n",
       "4998    2011-January\n",
       "4999    2011-January\n",
       "Name: YearMonth, Length: 5000, dtype: object"
      ]
     },
     "execution_count": 25,
     "metadata": {},
     "output_type": "execute_result"
    }
   ],
   "source": [
    "sales_df['YearMonth'] = sales_df['Year'].astype('str') + '-' + sales_df['Month']\n",
    "sales_df['YearMonth']"
   ]
  },
  {
   "cell_type": "markdown",
   "metadata": {},
   "source": [
    "- Sales per `YearMonth` with a **bar plot**:"
   ]
  },
  {
   "cell_type": "code",
   "execution_count": 26,
   "metadata": {
    "cell_type": "solution",
    "scrolled": false
   },
   "outputs": [
    {
     "data": {
      "text/plain": [
       "2015-December    232\n",
       "2016-April       218\n",
       "2013-December    215\n",
       "2014-June        215\n",
       "2016-May         214\n",
       "                ... \n",
       "2012-December      7\n",
       "2012-February      6\n",
       "2011-June          6\n",
       "2011-February      6\n",
       "2012-March         4\n",
       "Name: YearMonth, Length: 62, dtype: int64"
      ]
     },
     "execution_count": 26,
     "metadata": {},
     "output_type": "execute_result"
    }
   ],
   "source": [
    "sales_per_yearmonth = sales_df['YearMonth'].value_counts()\n",
    "sales_per_yearmonth"
   ]
  },
  {
   "cell_type": "code",
   "execution_count": 27,
   "metadata": {
    "cell_type": "solution",
    "scrolled": false
   },
   "outputs": [
    {
     "data": {
      "image/png": "[encoded data removed]",
      "text/plain": [
       "<Figure size 864x432 with 1 Axes>"
      ]
     },
     "metadata": {
      "needs_background": "light"
     },
     "output_type": "display_data"
    }
   ],
   "source": [
    "sales_per_yearmonth.plot(kind='bar', \n",
    "                         figsize=(12,6));"
   ]
  },
  {
   "cell_type": "markdown",
   "metadata": {},
   "source": [
    "### Product"
   ]
  },
  {
   "cell_type": "markdown",
   "metadata": {},
   "source": [
    "- List of `Product`:"
   ]
  },
  {
   "cell_type": "code",
   "execution_count": 28,
   "metadata": {
    "cell_type": "solution"
   },
   "outputs": [
    {
     "data": {
      "text/plain": [
       "array(['Touring Tire', 'AWC Logo Cap', 'Patch Kit/8 Patches',\n",
       "       'Sport-100 Helmet, Black', 'Hydration Pack - 70 oz.',\n",
       "       'Water Bottle - 30 oz.', 'ML Mountain Tire', 'Touring Tire Tube',\n",
       "       'Sport-100 Helmet, Blue', 'ML Road Tire',\n",
       "       'Short-Sleeve Classic Jersey, S', 'Mountain Tire Tube',\n",
       "       'Road Tire Tube', \"Women's Mountain Shorts, M\",\n",
       "       'Mountain Bottle Cage', 'Fender Set - Mountain', 'HL Road Tire',\n",
       "       'Sport-100 Helmet, Red', 'Short-Sleeve Classic Jersey, L',\n",
       "       'Classic Vest, L', 'Racing Socks, M', 'HL Mountain Tire',\n",
       "       'Long-Sleeve Logo Jersey, S', 'Long-Sleeve Logo Jersey, L',\n",
       "       'LL Mountain Tire', 'LL Road Tire', \"Women's Mountain Shorts, S\",\n",
       "       'Racing Socks, L', \"Women's Mountain Shorts, L\",\n",
       "       'Bike Wash - Dissolver', 'Touring-3000 Yellow, 58',\n",
       "       'Touring-2000 Blue, 50', 'Mountain-100 Silver, 44',\n",
       "       'Road Bottle Cage', 'Mountain-200 Black, 42',\n",
       "       'Mountain-200 Black, 46', 'Mountain-400-W Silver, 40',\n",
       "       'Mountain-200 Silver, 38', 'Touring-3000 Yellow, 54',\n",
       "       'Short-Sleeve Classic Jersey, M', 'Half-Finger Gloves, M',\n",
       "       'Mountain-200 Black, 38', 'Half-Finger Gloves, L',\n",
       "       'Touring-3000 Yellow, 50', 'Road-250 Red, 58',\n",
       "       'Touring-1000 Yellow, 54', 'Mountain-200 Silver, 46',\n",
       "       'Road-650 Red, 52', 'Road-350-W Yellow, 42', 'Road-250 Black, 52',\n",
       "       'Long-Sleeve Logo Jersey, M', 'Road-650 Red, 60',\n",
       "       'Touring-1000 Blue, 46', 'Road-650 Black, 44',\n",
       "       'Mountain-400-W Silver, 46', 'Short-Sleeve Classic Jersey, XL',\n",
       "       'Road-150 Red, 62', 'Mountain-200 Silver, 42',\n",
       "       'Road-550-W Yellow, 44', 'Mountain-500 Black, 44',\n",
       "       'Hitch Rack - 4-Bike', 'Road-750 Black, 44',\n",
       "       'Road-550-W Yellow, 38', 'Touring-2000 Blue, 46',\n",
       "       'Touring-3000 Blue, 62', 'Classic Vest, S', 'Road-750 Black, 52',\n",
       "       'Mountain-500 Black, 42', 'Mountain-400-W Silver, 42',\n",
       "       'Road-150 Red, 56', 'Half-Finger Gloves, S',\n",
       "       'Touring-1000 Yellow, 50', 'Touring-3000 Yellow, 44',\n",
       "       'Touring-1000 Yellow, 60', 'All-Purpose Bike Stand',\n",
       "       'Road-650 Red, 44', 'Touring-1000 Blue, 50', 'Road-250 Black, 48',\n",
       "       'Road-250 Red, 48', 'Road-650 Black, 48', 'Road-750 Black, 48',\n",
       "       'Road-150 Red, 52', 'Road-250 Red, 44', 'Mountain-100 Black, 48',\n",
       "       'Mountain-100 Black, 44', 'Touring-3000 Blue, 44',\n",
       "       'Road-650 Black, 60', 'Touring-1000 Yellow, 46',\n",
       "       'Road-350-W Yellow, 48', 'Classic Vest, M',\n",
       "       'Mountain-100 Silver, 38', 'Touring-3000 Yellow, 62',\n",
       "       'Touring-1000 Blue, 54', 'Road-250 Black, 58',\n",
       "       'Long-Sleeve Logo Jersey, XL', 'Road-550-W Yellow, 42',\n",
       "       'Road-550-W Yellow, 48', 'Touring-1000 Blue, 60',\n",
       "       'Road-750 Black, 58', 'Road-150 Red, 44', 'Mountain-500 Black, 52',\n",
       "       'Touring-3000 Blue, 54', 'Road-250 Red, 52',\n",
       "       'Mountain-100 Black, 38', 'Mountain-500 Silver, 40',\n",
       "       'Road-550-W Yellow, 40', 'Touring-2000 Blue, 60',\n",
       "       'Road-350-W Yellow, 40', 'Road-250 Black, 44',\n",
       "       'Touring-2000 Blue, 54', 'Mountain-500 Silver, 44',\n",
       "       'Road-150 Red, 48', 'Road-350-W Yellow, 44',\n",
       "       'Touring-3000 Blue, 58', 'Mountain-100 Silver, 48',\n",
       "       'Road-650 Red, 48', 'Mountain-400-W Silver, 38',\n",
       "       'Road-650 Red, 58', 'Road-650 Black, 58', 'Road-650 Black, 62',\n",
       "       'Mountain-500 Black, 40', 'Road-650 Red, 62',\n",
       "       'Mountain-100 Black, 42', 'Mountain-500 Black, 48',\n",
       "       'Mountain-500 Silver, 52', 'Mountain-500 Silver, 42',\n",
       "       'Touring-3000 Blue, 50', 'Road-650 Black, 52',\n",
       "       'Mountain-500 Silver, 48', 'Mountain-100 Silver, 42'], dtype=object)"
      ]
     },
     "execution_count": 28,
     "metadata": {},
     "output_type": "execute_result"
    }
   ],
   "source": [
    "product_list = sales_df['Product'].unique()\n",
    "product_list"
   ]
  },
  {
   "cell_type": "markdown",
   "metadata": {},
   "source": [
    "- Top 10 best-selling sold products with a **bar plot**:"
   ]
  },
  {
   "cell_type": "code",
   "execution_count": 29,
   "metadata": {
    "cell_type": "solution",
    "scrolled": false
   },
   "outputs": [
    {
     "data": {
      "image/png": "[encoded data removed]",
      "text/plain": [
       "<Figure size 432x288 with 1 Axes>"
      ]
     },
     "metadata": {
      "needs_background": "light"
     },
     "output_type": "display_data"
    }
   ],
   "source": [
    "sales_df['Product'].value_counts().head(10).plot(kind='barh');"
   ]
  },
  {
   "cell_type": "markdown",
   "metadata": {},
   "source": [
    "- Sales per category with a **pie chart**:"
   ]
  },
  {
   "cell_type": "code",
   "execution_count": 30,
   "metadata": {
    "cell_type": "solution",
    "scrolled": true
   },
   "outputs": [
    {
     "data": {
      "text/plain": [
       "Accessories    3090\n",
       "Bikes          1166\n",
       "Clothing        744\n",
       "Name: Product_Category, dtype: int64"
      ]
     },
     "execution_count": 30,
     "metadata": {},
     "output_type": "execute_result"
    }
   ],
   "source": [
    "sales_per_category = sales_df['Product_Category'].value_counts()\n",
    "sales_per_category"
   ]
  },
  {
   "cell_type": "code",
   "execution_count": 31,
   "metadata": {
    "cell_type": "solution"
   },
   "outputs": [
    {
     "data": {
      "image/png": "[encoded data removed]",
      "text/plain": [
       "<Figure size 432x288 with 1 Axes>"
      ]
     },
     "metadata": {},
     "output_type": "display_data"
    }
   ],
   "source": [
    "sales_per_category.plot(kind='pie');"
   ]
  },
  {
   "cell_type": "markdown",
   "metadata": {},
   "source": [
    "### Sales"
   ]
  },
  {
   "cell_type": "markdown",
   "metadata": {},
   "source": [
    "- Average number of orders with a **histogram** and a **box plot**:"
   ]
  },
  {
   "cell_type": "code",
   "execution_count": 32,
   "metadata": {
    "cell_type": "solution"
   },
   "outputs": [
    {
     "data": {
      "text/plain": [
       "11.8204"
      ]
     },
     "execution_count": 32,
     "metadata": {},
     "output_type": "execute_result"
    }
   ],
   "source": [
    "sales_df['Order_Quantity'].mean()"
   ]
  },
  {
   "cell_type": "code",
   "execution_count": 33,
   "metadata": {
    "cell_type": "solution"
   },
   "outputs": [
    {
     "data": {
      "image/png": "[encoded data removed]",
      "text/plain": [
       "<Figure size 432x288 with 1 Axes>"
      ]
     },
     "metadata": {
      "needs_background": "light"
     },
     "output_type": "display_data"
    }
   ],
   "source": [
    "sales_df['Order_Quantity'].plot(kind='hist');"
   ]
  },
  {
   "cell_type": "code",
   "execution_count": 34,
   "metadata": {
    "cell_type": "solution"
   },
   "outputs": [
    {
     "data": {
      "image/png": "[encoded data removed]",
      "text/plain": [
       "<Figure size 432x288 with 1 Axes>"
      ]
     },
     "metadata": {
      "needs_background": "light"
     },
     "output_type": "display_data"
    }
   ],
   "source": [
    "sales_df['Order_Quantity'].plot(kind='box');"
   ]
  },
  {
   "cell_type": "markdown",
   "metadata": {},
   "source": [
    "* Create a new `Cost` column: `Cost` = `Unit_Cost` * `Order_Quantity`:"
   ]
  },
  {
   "cell_type": "code",
   "execution_count": 35,
   "metadata": {
    "cell_type": "solution",
    "scrolled": true
   },
   "outputs": [
    {
     "data": {
      "text/plain": [
       "0        286\n",
       "1        112\n",
       "2         16\n",
       "3        182\n",
       "4        105\n",
       "        ... \n",
       "4995    8684\n",
       "4996    3756\n",
       "4997     344\n",
       "4998    1083\n",
       "4999     344\n",
       "Name: Cost, Length: 5000, dtype: int64"
      ]
     },
     "execution_count": 35,
     "metadata": {},
     "output_type": "execute_result"
    }
   ],
   "source": [
    "sales_df['Cost'] = sales_df['Unit_Cost'] * sales_df['Order_Quantity']\n",
    "sales_df['Cost']"
   ]
  },
  {
   "cell_type": "markdown",
   "metadata": {},
   "source": [
    "- Relationship between `Unit_Cost` and `Unit_Price` with a **scatter plot**:"
   ]
  },
  {
   "cell_type": "code",
   "execution_count": 36,
   "metadata": {
    "cell_type": "solution"
   },
   "outputs": [
    {
     "data": {
      "image/png": "[encoded data removed]",
      "text/plain": [
       "<Figure size 864x432 with 1 Axes>"
      ]
     },
     "metadata": {
      "needs_background": "light"
     },
     "output_type": "display_data"
    }
   ],
   "source": [
    "sales_df.plot(kind='scatter', \n",
    "              x='Unit_Cost', \n",
    "              y='Unit_Price', \n",
    "              figsize = (12,6));"
   ]
  },
  {
   "cell_type": "markdown",
   "metadata": {},
   "source": [
    "- Relationship between `Order_Quantity` and `Profit` with a **scatter plot**:"
   ]
  },
  {
   "cell_type": "code",
   "execution_count": 37,
   "metadata": {
    "cell_type": "solution"
   },
   "outputs": [
    {
     "data": {
      "image/png": "[encoded data removed]",
      "text/plain": [
       "<Figure size 864x432 with 1 Axes>"
      ]
     },
     "metadata": {
      "needs_background": "light"
     },
     "output_type": "display_data"
    }
   ],
   "source": [
    "sales_df.plot(kind='scatter', \n",
    "              x='Order_Quantity', \n",
    "              y='Profit', \n",
    "              figsize=(12,6));"
   ]
  },
  {
   "cell_type": "markdown",
   "metadata": {},
   "source": [
    "- Relationship between `Profit` per `Country` with a grouped **box plot**:"
   ]
  },
  {
   "cell_type": "code",
   "execution_count": 38,
   "metadata": {
    "cell_type": "solution"
   },
   "outputs": [
    {
     "data": {
      "image/png": "[encoded data removed]",
      "text/plain": [
       "<Figure size 864x432 with 1 Axes>"
      ]
     },
     "metadata": {
      "needs_background": "light"
     },
     "output_type": "display_data"
    }
   ],
   "source": [
    "sales_df[['Profit', 'Country']].boxplot(by='Country', \n",
    "                                        figsize=(12,6));"
   ]
  },
  {
   "cell_type": "markdown",
   "metadata": {},
   "source": [
    "## Questions"
   ]
  },
  {
   "cell_type": "markdown",
   "metadata": {},
   "source": [
    "- Increase $50 revenue to every sale"
   ]
  },
  {
   "cell_type": "code",
   "execution_count": 39,
   "metadata": {
    "cell_type": "solution"
   },
   "outputs": [],
   "source": [
    "sales_df['Revenue'] += 50"
   ]
  },
  {
   "cell_type": "markdown",
   "metadata": {},
   "source": [
    "- How many orders were made in `Canada` or `France`?"
   ]
  },
  {
   "cell_type": "code",
   "execution_count": 40,
   "metadata": {
    "cell_type": "solution"
   },
   "outputs": [
    {
     "data": {
      "text/plain": [
       "1146"
      ]
     },
     "execution_count": 40,
     "metadata": {},
     "output_type": "execute_result"
    }
   ],
   "source": [
    "sales_df.loc[(sales_df['Country'] == 'Canada') | (sales_df['Country'] == 'France')].shape[0]"
   ]
  },
  {
   "cell_type": "markdown",
   "metadata": {},
   "source": [
    "- How many `Bike Racks` orders were made from Canada?"
   ]
  },
  {
   "cell_type": "code",
   "execution_count": 41,
   "metadata": {
    "cell_type": "solution"
   },
   "outputs": [
    {
     "data": {
      "text/plain": [
       "3"
      ]
     },
     "execution_count": 41,
     "metadata": {},
     "output_type": "execute_result"
    }
   ],
   "source": [
    "sales_df.loc[(sales_df['Country'] == 'Canada') & (sales_df['Sub_Category'] == 'Bike Racks')].shape[0]"
   ]
  },
  {
   "cell_type": "markdown",
   "metadata": {},
   "source": [
    "- How many orders were made in each region (state) of France? Show a **bar plot**."
   ]
  },
  {
   "cell_type": "code",
   "execution_count": 42,
   "metadata": {
    "cell_type": "solution"
   },
   "outputs": [
    {
     "data": {
      "image/png": "[encoded data removed]",
      "text/plain": [
       "<Figure size 864x432 with 1 Axes>"
      ]
     },
     "metadata": {
      "needs_background": "light"
     },
     "output_type": "display_data"
    }
   ],
   "source": [
    "france_sales = sales_df.loc[sales_df['Country'] == 'France', 'State'].value_counts()\n",
    "france_sales.plot(kind='bar', \n",
    "                  figsize=(12,6));"
   ]
  },
  {
   "cell_type": "markdown",
   "metadata": {},
   "source": [
    "- How many orders were made per `Accessories` sub-categories? Show a **bar plot**."
   ]
  },
  {
   "cell_type": "code",
   "execution_count": 43,
   "metadata": {
    "cell_type": "solution"
   },
   "outputs": [
    {
     "data": {
      "image/png": "[encoded data removed]",
      "text/plain": [
       "<Figure size 864x432 with 1 Axes>"
      ]
     },
     "metadata": {
      "needs_background": "light"
     },
     "output_type": "display_data"
    }
   ],
   "source": [
    "accessories_sales = sales_df.loc[sales_df['Product_Category'] == 'Accessories', 'Sub_Category'].value_counts()\n",
    "accessories_sales.plot(kind='barh', \n",
    "                       figsize=(12,6));"
   ]
  },
  {
   "cell_type": "markdown",
   "metadata": {},
   "source": [
    "- How many orders were made per `Bikes` sub-categories?. Show a **pie chart**:"
   ]
  },
  {
   "cell_type": "code",
   "execution_count": 44,
   "metadata": {
    "cell_type": "solution"
   },
   "outputs": [
    {
     "data": {
      "image/png": "[encoded data removed]",
      "text/plain": [
       "<Figure size 432x288 with 1 Axes>"
      ]
     },
     "metadata": {},
     "output_type": "display_data"
    }
   ],
   "source": [
    "bikes_sales = sales_df.loc[sales_df['Product_Category'] == 'Bikes', 'Sub_Category'].value_counts()\n",
    "bikes_sales.plot(kind='pie');"
   ]
  },
  {
   "cell_type": "markdown",
   "metadata": {},
   "source": [
    "- How many sales with more than 500 in `Revenue` were made by men?"
   ]
  },
  {
   "cell_type": "code",
   "execution_count": 45,
   "metadata": {
    "cell_type": "solution"
   },
   "outputs": [
    {
     "data": {
      "text/plain": [
       "1"
      ]
     },
     "execution_count": 45,
     "metadata": {},
     "output_type": "execute_result"
    }
   ],
   "source": [
    "sales_df.loc[(sales_df['Customer_Gender'] == 'M') & (sales_df['Revenue'] == 500)].shape[0]"
   ]
  },
  {
   "cell_type": "markdown",
   "metadata": {},
   "source": [
    "- Top 5 sales with the highest revenue"
   ]
  },
  {
   "cell_type": "code",
   "execution_count": 46,
   "metadata": {
    "cell_type": "solution"
   },
   "outputs": [
    {
     "data": {
      "text/html": [
       "<div>\n",
       "<style scoped>\n",
       "    .dataframe tbody tr th:only-of-type {\n",
       "        vertical-align: middle;\n",
       "    }\n",
       "\n",
       "    .dataframe tbody tr th {\n",
       "        vertical-align: top;\n",
       "    }\n",
       "\n",
       "    .dataframe thead th {\n",
       "        text-align: right;\n",
       "    }\n",
       "</style>\n",
       "<table border=\"1\" class=\"dataframe\">\n",
       "  <thead>\n",
       "    <tr style=\"text-align: right;\">\n",
       "      <th></th>\n",
       "      <th>Date</th>\n",
       "      <th>Day</th>\n",
       "      <th>Month</th>\n",
       "      <th>Year</th>\n",
       "      <th>Customer_Age</th>\n",
       "      <th>Customer_Gender</th>\n",
       "      <th>Country</th>\n",
       "      <th>State</th>\n",
       "      <th>Product_Category</th>\n",
       "      <th>Sub_Category</th>\n",
       "      <th>Product</th>\n",
       "      <th>Order_Quantity</th>\n",
       "      <th>Unit_Cost</th>\n",
       "      <th>Unit_Price</th>\n",
       "      <th>Profit</th>\n",
       "      <th>Revenue</th>\n",
       "      <th>YearMonth</th>\n",
       "      <th>Cost</th>\n",
       "    </tr>\n",
       "  </thead>\n",
       "  <tbody>\n",
       "    <tr>\n",
       "      <th>4970</th>\n",
       "      <td>2011-03-27</td>\n",
       "      <td>27</td>\n",
       "      <td>March</td>\n",
       "      <td>2011</td>\n",
       "      <td>24</td>\n",
       "      <td>M</td>\n",
       "      <td>United States</td>\n",
       "      <td>California</td>\n",
       "      <td>Bikes</td>\n",
       "      <td>Road Bikes</td>\n",
       "      <td>Road-150 Red, 44</td>\n",
       "      <td>4</td>\n",
       "      <td>2171</td>\n",
       "      <td>3578</td>\n",
       "      <td>5342</td>\n",
       "      <td>14076</td>\n",
       "      <td>2011-March</td>\n",
       "      <td>8684</td>\n",
       "    </tr>\n",
       "    <tr>\n",
       "      <th>4995</th>\n",
       "      <td>2011-01-17</td>\n",
       "      <td>17</td>\n",
       "      <td>January</td>\n",
       "      <td>2011</td>\n",
       "      <td>44</td>\n",
       "      <td>F</td>\n",
       "      <td>United States</td>\n",
       "      <td>California</td>\n",
       "      <td>Bikes</td>\n",
       "      <td>Road Bikes</td>\n",
       "      <td>Road-150 Red, 62</td>\n",
       "      <td>4</td>\n",
       "      <td>2171</td>\n",
       "      <td>3578</td>\n",
       "      <td>5342</td>\n",
       "      <td>14076</td>\n",
       "      <td>2011-January</td>\n",
       "      <td>8684</td>\n",
       "    </tr>\n",
       "    <tr>\n",
       "      <th>1443</th>\n",
       "      <td>2015-12-11</td>\n",
       "      <td>11</td>\n",
       "      <td>December</td>\n",
       "      <td>2015</td>\n",
       "      <td>44</td>\n",
       "      <td>M</td>\n",
       "      <td>Canada</td>\n",
       "      <td>British Columbia</td>\n",
       "      <td>Bikes</td>\n",
       "      <td>Road Bikes</td>\n",
       "      <td>Road-150 Red, 62</td>\n",
       "      <td>3</td>\n",
       "      <td>2171</td>\n",
       "      <td>3578</td>\n",
       "      <td>4114</td>\n",
       "      <td>10677</td>\n",
       "      <td>2015-December</td>\n",
       "      <td>6513</td>\n",
       "    </tr>\n",
       "    <tr>\n",
       "      <th>4874</th>\n",
       "      <td>2011-12-29</td>\n",
       "      <td>29</td>\n",
       "      <td>December</td>\n",
       "      <td>2011</td>\n",
       "      <td>25</td>\n",
       "      <td>M</td>\n",
       "      <td>Canada</td>\n",
       "      <td>British Columbia</td>\n",
       "      <td>Bikes</td>\n",
       "      <td>Road Bikes</td>\n",
       "      <td>Road-150 Red, 62</td>\n",
       "      <td>3</td>\n",
       "      <td>2171</td>\n",
       "      <td>3578</td>\n",
       "      <td>4114</td>\n",
       "      <td>10677</td>\n",
       "      <td>2011-December</td>\n",
       "      <td>6513</td>\n",
       "    </tr>\n",
       "    <tr>\n",
       "      <th>1094</th>\n",
       "      <td>2016-01-28</td>\n",
       "      <td>28</td>\n",
       "      <td>January</td>\n",
       "      <td>2016</td>\n",
       "      <td>34</td>\n",
       "      <td>M</td>\n",
       "      <td>Canada</td>\n",
       "      <td>British Columbia</td>\n",
       "      <td>Bikes</td>\n",
       "      <td>Road Bikes</td>\n",
       "      <td>Road-150 Red, 62</td>\n",
       "      <td>3</td>\n",
       "      <td>2171</td>\n",
       "      <td>3578</td>\n",
       "      <td>4114</td>\n",
       "      <td>10677</td>\n",
       "      <td>2016-January</td>\n",
       "      <td>6513</td>\n",
       "    </tr>\n",
       "  </tbody>\n",
       "</table>\n",
       "</div>"
      ],
      "text/plain": [
       "           Date  Day     Month  Year  Customer_Age Customer_Gender  \\\n",
       "4970 2011-03-27   27     March  2011            24               M   \n",
       "4995 2011-01-17   17   January  2011            44               F   \n",
       "1443 2015-12-11   11  December  2015            44               M   \n",
       "4874 2011-12-29   29  December  2011            25               M   \n",
       "1094 2016-01-28   28   January  2016            34               M   \n",
       "\n",
       "            Country             State Product_Category Sub_Category  \\\n",
       "4970  United States        California            Bikes   Road Bikes   \n",
       "4995  United States        California            Bikes   Road Bikes   \n",
       "1443         Canada  British Columbia            Bikes   Road Bikes   \n",
       "4874         Canada  British Columbia            Bikes   Road Bikes   \n",
       "1094         Canada  British Columbia            Bikes   Road Bikes   \n",
       "\n",
       "               Product  Order_Quantity  Unit_Cost  Unit_Price  Profit  \\\n",
       "4970  Road-150 Red, 44               4       2171        3578    5342   \n",
       "4995  Road-150 Red, 62               4       2171        3578    5342   \n",
       "1443  Road-150 Red, 62               3       2171        3578    4114   \n",
       "4874  Road-150 Red, 62               3       2171        3578    4114   \n",
       "1094  Road-150 Red, 62               3       2171        3578    4114   \n",
       "\n",
       "      Revenue      YearMonth  Cost  \n",
       "4970    14076     2011-March  8684  \n",
       "4995    14076   2011-January  8684  \n",
       "1443    10677  2015-December  6513  \n",
       "4874    10677  2011-December  6513  \n",
       "1094    10677   2016-January  6513  "
      ]
     },
     "execution_count": 46,
     "metadata": {},
     "output_type": "execute_result"
    }
   ],
   "source": [
    "sales_df.sort_values(['Revenue'], ascending=False).head(5)"
   ]
  },
  {
   "cell_type": "markdown",
   "metadata": {},
   "source": [
    "- The sale with the highest revenue"
   ]
  },
  {
   "cell_type": "code",
   "execution_count": 47,
   "metadata": {
    "cell_type": "solution"
   },
   "outputs": [
    {
     "data": {
      "text/html": [
       "<div>\n",
       "<style scoped>\n",
       "    .dataframe tbody tr th:only-of-type {\n",
       "        vertical-align: middle;\n",
       "    }\n",
       "\n",
       "    .dataframe tbody tr th {\n",
       "        vertical-align: top;\n",
       "    }\n",
       "\n",
       "    .dataframe thead th {\n",
       "        text-align: right;\n",
       "    }\n",
       "</style>\n",
       "<table border=\"1\" class=\"dataframe\">\n",
       "  <thead>\n",
       "    <tr style=\"text-align: right;\">\n",
       "      <th></th>\n",
       "      <th>Date</th>\n",
       "      <th>Day</th>\n",
       "      <th>Month</th>\n",
       "      <th>Year</th>\n",
       "      <th>Customer_Age</th>\n",
       "      <th>Customer_Gender</th>\n",
       "      <th>Country</th>\n",
       "      <th>State</th>\n",
       "      <th>Product_Category</th>\n",
       "      <th>Sub_Category</th>\n",
       "      <th>Product</th>\n",
       "      <th>Order_Quantity</th>\n",
       "      <th>Unit_Cost</th>\n",
       "      <th>Unit_Price</th>\n",
       "      <th>Profit</th>\n",
       "      <th>Revenue</th>\n",
       "      <th>YearMonth</th>\n",
       "      <th>Cost</th>\n",
       "    </tr>\n",
       "  </thead>\n",
       "  <tbody>\n",
       "    <tr>\n",
       "      <th>4970</th>\n",
       "      <td>2011-03-27</td>\n",
       "      <td>27</td>\n",
       "      <td>March</td>\n",
       "      <td>2011</td>\n",
       "      <td>24</td>\n",
       "      <td>M</td>\n",
       "      <td>United States</td>\n",
       "      <td>California</td>\n",
       "      <td>Bikes</td>\n",
       "      <td>Road Bikes</td>\n",
       "      <td>Road-150 Red, 44</td>\n",
       "      <td>4</td>\n",
       "      <td>2171</td>\n",
       "      <td>3578</td>\n",
       "      <td>5342</td>\n",
       "      <td>14076</td>\n",
       "      <td>2011-March</td>\n",
       "      <td>8684</td>\n",
       "    </tr>\n",
       "    <tr>\n",
       "      <th>4995</th>\n",
       "      <td>2011-01-17</td>\n",
       "      <td>17</td>\n",
       "      <td>January</td>\n",
       "      <td>2011</td>\n",
       "      <td>44</td>\n",
       "      <td>F</td>\n",
       "      <td>United States</td>\n",
       "      <td>California</td>\n",
       "      <td>Bikes</td>\n",
       "      <td>Road Bikes</td>\n",
       "      <td>Road-150 Red, 62</td>\n",
       "      <td>4</td>\n",
       "      <td>2171</td>\n",
       "      <td>3578</td>\n",
       "      <td>5342</td>\n",
       "      <td>14076</td>\n",
       "      <td>2011-January</td>\n",
       "      <td>8684</td>\n",
       "    </tr>\n",
       "  </tbody>\n",
       "</table>\n",
       "</div>"
      ],
      "text/plain": [
       "           Date  Day    Month  Year  Customer_Age Customer_Gender  \\\n",
       "4970 2011-03-27   27    March  2011            24               M   \n",
       "4995 2011-01-17   17  January  2011            44               F   \n",
       "\n",
       "            Country       State Product_Category Sub_Category  \\\n",
       "4970  United States  California            Bikes   Road Bikes   \n",
       "4995  United States  California            Bikes   Road Bikes   \n",
       "\n",
       "               Product  Order_Quantity  Unit_Cost  Unit_Price  Profit  \\\n",
       "4970  Road-150 Red, 44               4       2171        3578    5342   \n",
       "4995  Road-150 Red, 62               4       2171        3578    5342   \n",
       "\n",
       "      Revenue     YearMonth  Cost  \n",
       "4970    14076    2011-March  8684  \n",
       "4995    14076  2011-January  8684  "
      ]
     },
     "execution_count": 47,
     "metadata": {},
     "output_type": "execute_result"
    }
   ],
   "source": [
    "#sales.sort_values(['Revenue'], ascending=False).head(1)\n",
    "\n",
    "sales_df.loc[sales_df['Revenue'] == sales_df['Revenue'].max()]"
   ]
  },
  {
   "cell_type": "markdown",
   "metadata": {},
   "source": [
    "- What is the mean `Order_Quantity` of orders with more than 10K in revenue?"
   ]
  },
  {
   "cell_type": "code",
   "execution_count": 48,
   "metadata": {
    "cell_type": "solution"
   },
   "outputs": [
    {
     "data": {
      "text/plain": [
       "3.25"
      ]
     },
     "execution_count": 48,
     "metadata": {},
     "output_type": "execute_result"
    }
   ],
   "source": [
    "sales_df.loc[sales_df['Revenue'] > 10_000, 'Order_Quantity'].mean()"
   ]
  },
  {
   "cell_type": "markdown",
   "metadata": {},
   "source": [
    "- What is the mean `Order_Quantity` of orders with less than 10K in revenue?"
   ]
  },
  {
   "cell_type": "code",
   "execution_count": 49,
   "metadata": {
    "cell_type": "solution"
   },
   "outputs": [
    {
     "data": {
      "text/plain": [
       "11.834134615384615"
      ]
     },
     "execution_count": 49,
     "metadata": {},
     "output_type": "execute_result"
    }
   ],
   "source": [
    "sales_df.loc[sales_df['Revenue'] < 10_000, 'Order_Quantity'].mean()"
   ]
  },
  {
   "cell_type": "markdown",
   "metadata": {},
   "source": [
    "- How many orders were made in May of 2016?"
   ]
  },
  {
   "cell_type": "code",
   "execution_count": 50,
   "metadata": {
    "cell_type": "solution"
   },
   "outputs": [
    {
     "data": {
      "text/plain": [
       "214"
      ]
     },
     "execution_count": 50,
     "metadata": {},
     "output_type": "execute_result"
    }
   ],
   "source": [
    "sales_df.loc[(sales_df['Year'] == 2016) & (sales_df['Month'] == 'May')].shape[0]"
   ]
  },
  {
   "cell_type": "markdown",
   "metadata": {},
   "source": [
    "- How many orders were made between May and July of 2016?"
   ]
  },
  {
   "cell_type": "code",
   "execution_count": 51,
   "metadata": {
    "cell_type": "solution"
   },
   "outputs": [
    {
     "data": {
      "text/plain": [
       "517"
      ]
     },
     "execution_count": 51,
     "metadata": {},
     "output_type": "execute_result"
    }
   ],
   "source": [
    "sales_df.loc[(sales_df['Year'] == 2016) & (sales_df['Month'].isin(['May', 'June', 'July']))].shape[0]"
   ]
  },
  {
   "cell_type": "markdown",
   "metadata": {},
   "source": [
    "- Show a grouped <b>box plot</b> per month of 2016 with the profit values"
   ]
  },
  {
   "cell_type": "code",
   "execution_count": 52,
   "metadata": {
    "cell_type": "solution"
   },
   "outputs": [
    {
     "data": {
      "image/png": "[encoded data removed]",
      "text/plain": [
       "<Figure size 864x432 with 1 Axes>"
      ]
     },
     "metadata": {
      "needs_background": "light"
     },
     "output_type": "display_data"
    }
   ],
   "source": [
    "profit_2016 = sales_df.loc[sales_df['Year'] == 2016, ['Profit', 'Month']]\n",
    "profit_2016.boxplot(by='Month', \n",
    "                    figsize=(12,6));"
   ]
  },
  {
   "cell_type": "markdown",
   "metadata": {},
   "source": [
    "- Add 7.2% TAX on every sale `Unit_Price` within United States"
   ]
  },
  {
   "cell_type": "code",
   "execution_count": 53,
   "metadata": {
    "cell_type": "solution"
   },
   "outputs": [
    {
     "data": {
      "text/html": [
       "<div>\n",
       "<style scoped>\n",
       "    .dataframe tbody tr th:only-of-type {\n",
       "        vertical-align: middle;\n",
       "    }\n",
       "\n",
       "    .dataframe tbody tr th {\n",
       "        vertical-align: top;\n",
       "    }\n",
       "\n",
       "    .dataframe thead th {\n",
       "        text-align: right;\n",
       "    }\n",
       "</style>\n",
       "<table border=\"1\" class=\"dataframe\">\n",
       "  <thead>\n",
       "    <tr style=\"text-align: right;\">\n",
       "      <th></th>\n",
       "      <th>Date</th>\n",
       "      <th>Day</th>\n",
       "      <th>Month</th>\n",
       "      <th>Year</th>\n",
       "      <th>Customer_Age</th>\n",
       "      <th>Customer_Gender</th>\n",
       "      <th>Country</th>\n",
       "      <th>State</th>\n",
       "      <th>Product_Category</th>\n",
       "      <th>Sub_Category</th>\n",
       "      <th>Product</th>\n",
       "      <th>Order_Quantity</th>\n",
       "      <th>Unit_Cost</th>\n",
       "      <th>Unit_Price</th>\n",
       "      <th>Profit</th>\n",
       "      <th>Revenue</th>\n",
       "      <th>YearMonth</th>\n",
       "      <th>Cost</th>\n",
       "    </tr>\n",
       "  </thead>\n",
       "  <tbody>\n",
       "    <tr>\n",
       "      <th>0</th>\n",
       "      <td>2016-07-31</td>\n",
       "      <td>31</td>\n",
       "      <td>July</td>\n",
       "      <td>2016</td>\n",
       "      <td>47</td>\n",
       "      <td>F</td>\n",
       "      <td>United Kingdom</td>\n",
       "      <td>England</td>\n",
       "      <td>Accessories</td>\n",
       "      <td>Tires and Tubes</td>\n",
       "      <td>Touring Tire</td>\n",
       "      <td>26</td>\n",
       "      <td>11</td>\n",
       "      <td>29.000</td>\n",
       "      <td>438</td>\n",
       "      <td>774</td>\n",
       "      <td>2016-July</td>\n",
       "      <td>286</td>\n",
       "    </tr>\n",
       "    <tr>\n",
       "      <th>1</th>\n",
       "      <td>2016-07-31</td>\n",
       "      <td>31</td>\n",
       "      <td>July</td>\n",
       "      <td>2016</td>\n",
       "      <td>48</td>\n",
       "      <td>F</td>\n",
       "      <td>United Kingdom</td>\n",
       "      <td>England</td>\n",
       "      <td>Clothing</td>\n",
       "      <td>Caps</td>\n",
       "      <td>AWC Logo Cap</td>\n",
       "      <td>16</td>\n",
       "      <td>7</td>\n",
       "      <td>9.000</td>\n",
       "      <td>26</td>\n",
       "      <td>188</td>\n",
       "      <td>2016-July</td>\n",
       "      <td>112</td>\n",
       "    </tr>\n",
       "    <tr>\n",
       "      <th>2</th>\n",
       "      <td>2016-07-31</td>\n",
       "      <td>31</td>\n",
       "      <td>July</td>\n",
       "      <td>2016</td>\n",
       "      <td>40</td>\n",
       "      <td>F</td>\n",
       "      <td>United States</td>\n",
       "      <td>Washington</td>\n",
       "      <td>Accessories</td>\n",
       "      <td>Tires and Tubes</td>\n",
       "      <td>Patch Kit/8 Patches</td>\n",
       "      <td>16</td>\n",
       "      <td>1</td>\n",
       "      <td>2.144</td>\n",
       "      <td>9</td>\n",
       "      <td>75</td>\n",
       "      <td>2016-July</td>\n",
       "      <td>16</td>\n",
       "    </tr>\n",
       "    <tr>\n",
       "      <th>3</th>\n",
       "      <td>2016-07-30</td>\n",
       "      <td>30</td>\n",
       "      <td>July</td>\n",
       "      <td>2016</td>\n",
       "      <td>65</td>\n",
       "      <td>M</td>\n",
       "      <td>Australia</td>\n",
       "      <td>Victoria</td>\n",
       "      <td>Accessories</td>\n",
       "      <td>Helmets</td>\n",
       "      <td>Sport-100 Helmet, Black</td>\n",
       "      <td>14</td>\n",
       "      <td>13</td>\n",
       "      <td>35.000</td>\n",
       "      <td>205</td>\n",
       "      <td>437</td>\n",
       "      <td>2016-July</td>\n",
       "      <td>182</td>\n",
       "    </tr>\n",
       "    <tr>\n",
       "      <th>4</th>\n",
       "      <td>2016-07-30</td>\n",
       "      <td>30</td>\n",
       "      <td>July</td>\n",
       "      <td>2016</td>\n",
       "      <td>41</td>\n",
       "      <td>F</td>\n",
       "      <td>Canada</td>\n",
       "      <td>British Columbia</td>\n",
       "      <td>Accessories</td>\n",
       "      <td>Hydration Packs</td>\n",
       "      <td>Hydration Pack - 70 oz.</td>\n",
       "      <td>5</td>\n",
       "      <td>21</td>\n",
       "      <td>55.000</td>\n",
       "      <td>167</td>\n",
       "      <td>322</td>\n",
       "      <td>2016-July</td>\n",
       "      <td>105</td>\n",
       "    </tr>\n",
       "  </tbody>\n",
       "</table>\n",
       "</div>"
      ],
      "text/plain": [
       "        Date  Day Month  Year  Customer_Age Customer_Gender         Country  \\\n",
       "0 2016-07-31   31  July  2016            47               F  United Kingdom   \n",
       "1 2016-07-31   31  July  2016            48               F  United Kingdom   \n",
       "2 2016-07-31   31  July  2016            40               F   United States   \n",
       "3 2016-07-30   30  July  2016            65               M       Australia   \n",
       "4 2016-07-30   30  July  2016            41               F          Canada   \n",
       "\n",
       "              State Product_Category     Sub_Category  \\\n",
       "0           England      Accessories  Tires and Tubes   \n",
       "1           England         Clothing             Caps   \n",
       "2        Washington      Accessories  Tires and Tubes   \n",
       "3          Victoria      Accessories          Helmets   \n",
       "4  British Columbia      Accessories  Hydration Packs   \n",
       "\n",
       "                   Product  Order_Quantity  Unit_Cost  Unit_Price  Profit  \\\n",
       "0             Touring Tire              26         11      29.000     438   \n",
       "1             AWC Logo Cap              16          7       9.000      26   \n",
       "2      Patch Kit/8 Patches              16          1       2.144       9   \n",
       "3  Sport-100 Helmet, Black              14         13      35.000     205   \n",
       "4  Hydration Pack - 70 oz.               5         21      55.000     167   \n",
       "\n",
       "   Revenue  YearMonth  Cost  \n",
       "0      774  2016-July   286  \n",
       "1      188  2016-July   112  \n",
       "2       75  2016-July    16  \n",
       "3      437  2016-July   182  \n",
       "4      322  2016-July   105  "
      ]
     },
     "execution_count": 53,
     "metadata": {},
     "output_type": "execute_result"
    }
   ],
   "source": [
    "sales_df.loc[sales_df['Country'] == 'United States', 'Unit_Price'] *= 1.072\n",
    "sales_df.head()"
   ]
  }
 ],
 "metadata": {
  "kernelspec": {
   "display_name": "Python 3",
   "language": "python",
   "name": "python3"
  },
  "language_info": {
   "codemirror_mode": {
    "name": "ipython",
    "version": 3
   },
   "file_extension": ".py",
   "mimetype": "text/x-python",
   "name": "python",
   "nbconvert_exporter": "python",
   "pygments_lexer": "ipython3",
   "version": "3.8.8"
  }
 },
 "nbformat": 4,
 "nbformat_minor": 2
}
